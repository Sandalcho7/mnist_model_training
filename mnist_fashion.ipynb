{
 "cells": [
  {
   "cell_type": "markdown",
   "id": "4b38c87e-9e37-4faf-8df7-b57de3b104ff",
   "metadata": {},
   "source": [
    "# Prediction model on fashion MNIST"
   ]
  },
  {
   "cell_type": "code",
   "execution_count": null,
   "id": "4db6ad61-bacb-4427-853f-39f88333eef9",
   "metadata": {},
   "outputs": [],
   "source": [
    "import tensorflow as tf\n",
    "import matplotlib.pyplot as plt\n",
    "import numpy as np\n",
    "\n",
    "from keras.utils import to_categorical\n",
    "from keras.models import Sequential\n",
    "from keras.layers import Dense, Flatten, Conv2D, MaxPooling2D"
   ]
  },
  {
   "cell_type": "markdown",
   "id": "f68e7e13-1e1e-4f1d-ba7d-2793aa85800b",
   "metadata": {},
   "source": [
    "## Splitting and reshaping the data"
   ]
  },
  {
   "cell_type": "code",
   "execution_count": null,
   "id": "6842d82c-4902-4a6c-96a3-76f2f243e464",
   "metadata": {},
   "outputs": [],
   "source": [
    "fashion_mnist = tf.keras.datasets.fashion_mnist"
   ]
  },
  {
   "cell_type": "code",
   "execution_count": null,
   "id": "4c0676e1-2d4d-4873-b6c5-f65f70e10158",
   "metadata": {},
   "outputs": [],
   "source": [
    "(X_train, Y_train), (X_test, Y_test) = fashion_mnist.load_data()"
   ]
  },
  {
   "cell_type": "code",
   "execution_count": null,
   "id": "e52d7cba-b890-444c-a71a-1173aee10957",
   "metadata": {},
   "outputs": [],
   "source": [
    "# Reshaping data to match the model\n",
    "X_train = X_train.reshape(60000, 28, 28, 1)\n",
    "X_test = X_test.reshape(10000, 28, 28, 1)"
   ]
  },
  {
   "cell_type": "code",
   "execution_count": null,
   "id": "496cad8f-0884-4f00-9e8d-6e065da7ae9e",
   "metadata": {},
   "outputs": [],
   "source": [
    "plt.imshow(X_train[111], cmap='gray')\n",
    "plt.show()\n",
    "\n",
    "print(Y_train[111])"
   ]
  },
  {
   "cell_type": "code",
   "execution_count": null,
   "id": "fbe07640-5ffd-4215-8d73-48106b63b501",
   "metadata": {},
   "outputs": [],
   "source": [
    "# Labels categorization\n",
    "Y_train = to_categorical(Y_train)\n",
    "Y_test = to_categorical(Y_test)"
   ]
  },
  {
   "cell_type": "code",
   "execution_count": null,
   "id": "9e9ca454-d803-41d1-9b69-dda02809c536",
   "metadata": {},
   "outputs": [],
   "source": [
    "# Convert to float\n",
    "X_train = X_train.astype('float32')\n",
    "X_test = X_test.astype('float32')"
   ]
  },
  {
   "cell_type": "markdown",
   "id": "caadbcd9-651f-4184-a83e-31c58dba78af",
   "metadata": {},
   "source": [
    "## Training the model"
   ]
  },
  {
   "cell_type": "code",
   "execution_count": null,
   "id": "df095219-3bb2-41c9-a315-bb83cc0260ec",
   "metadata": {},
   "outputs": [],
   "source": [
    "def my_model():\n",
    "    model = Sequential()\n",
    "    model.add(Conv2D(32, (2, 2), activation='relu'))\n",
    "    model.add(MaxPooling2D((2,2)))\n",
    "    model.add(Flatten())\n",
    "    model.add(Dense(10, activation='softmax'))\n",
    "    model.compile(loss='categorical_crossentropy', optimizer='adam', metrics=['accuracy'])\n",
    "    return model"
   ]
  },
  {
   "cell_type": "code",
   "execution_count": null,
   "id": "8b75bc1f-0bfc-495f-9371-1e0e1f1b8495",
   "metadata": {},
   "outputs": [],
   "source": [
    "model = my_model()"
   ]
  },
  {
   "cell_type": "code",
   "execution_count": null,
   "id": "c9bf5643-e659-449a-b4b3-3a0332fda414",
   "metadata": {},
   "outputs": [],
   "source": [
    "model.fit(X_train, Y_train, validation_data=(X_test, Y_test), epochs=5, batch_size=100)"
   ]
  },
  {
   "cell_type": "code",
   "execution_count": null,
   "id": "1d2fe8b5-7e25-4d1a-9aaf-294992cb2e37",
   "metadata": {},
   "outputs": [],
   "source": [
    "test_loss, test_acc = model.evaluate(X_test, Y_test)\n",
    "print('Test accuracy', test_acc)"
   ]
  },
  {
   "cell_type": "markdown",
   "id": "a6a59f15-80a2-4ff1-b530-d4c51c81ffa9",
   "metadata": {},
   "source": [
    "## Using the model to make predictions"
   ]
  },
  {
   "cell_type": "code",
   "execution_count": null,
   "id": "d2f3cb15-40c4-4a10-8749-237a704bff57",
   "metadata": {},
   "outputs": [],
   "source": [
    "# Mapping dict for my future predictions\n",
    "class_labels = {\n",
    "    0: {\"label\": \"T-shirt/top\"},\n",
    "    1: {\"label\": \"Trouser\"},\n",
    "    2: {\"label\": \"Pullover\"},\n",
    "    3: {\"label\": \"Dress\"},\n",
    "    4: {\"label\": \"Coat\"},\n",
    "    5: {\"label\": \"Sandal\"},\n",
    "    6: {\"label\": \"Shirt\"},\n",
    "    7: {\"label\": \"Sneaker\"},\n",
    "    8: {\"label\": \"Bag\"},\n",
    "    9: {\"label\": \"Ankle boot\"}\n",
    "}"
   ]
  },
  {
   "cell_type": "code",
   "execution_count": null,
   "id": "3c0fc8b3-640e-4370-b999-97ce937b1e52",
   "metadata": {},
   "outputs": [],
   "source": [
    "# Choose the index of the image to predict on\n",
    "image_index = 109\n",
    "\n",
    "# Get the image from X_test\n",
    "image = X_test[image_index]\n",
    "\n",
    "# Reshape the image to match the input shape expected by the model\n",
    "image = image.reshape(1, 28, 28, 1)\n",
    "\n",
    "# Make the prediction\n",
    "prediction = model.predict(image)\n",
    "\n",
    "# Using argmax to return the class with highest probability\n",
    "predicted_class = np.argmax(prediction)\n",
    "predicted_label = class_labels[predicted_class][\"label\"]"
   ]
  },
  {
   "cell_type": "code",
   "execution_count": null,
   "id": "67a25129-b6fc-4cc9-9440-a2a63c2330bd",
   "metadata": {},
   "outputs": [],
   "source": [
    "image_to_plot = X_test[image_index].reshape(28, 28)\n",
    "\n",
    "plt.imshow(image_to_plot, cmap='gray')\n",
    "plt.show()\n",
    "\n",
    "print(\"Predicted class:\", predicted_class)\n",
    "print(\"Predicted label:\", predicted_label)"
   ]
  }
 ],
 "metadata": {
  "kernelspec": {
   "display_name": "Python 3 (ipykernel)",
   "language": "python",
   "name": "python3"
  },
  "language_info": {
   "codemirror_mode": {
    "name": "ipython",
    "version": 3
   },
   "file_extension": ".py",
   "mimetype": "text/x-python",
   "name": "python",
   "nbconvert_exporter": "python",
   "pygments_lexer": "ipython3",
   "version": "3.11.5"
  }
 },
 "nbformat": 4,
 "nbformat_minor": 5
}
