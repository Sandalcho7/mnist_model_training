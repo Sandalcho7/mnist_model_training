{
 "cells": [
  {
   "cell_type": "markdown",
   "id": "39979a9f-a104-4f48-9f20-1cdfb0994f8d",
   "metadata": {},
   "source": [
    "# Prediction model on MNIST"
   ]
  },
  {
   "cell_type": "code",
   "execution_count": 1,
   "id": "2d564885-377c-4826-9cb1-a739307db258",
   "metadata": {},
   "outputs": [
    {
     "name": "stderr",
     "output_type": "stream",
     "text": [
      "2024-03-01 12:09:56.897493: I tensorflow/core/platform/cpu_feature_guard.cc:182] This TensorFlow binary is optimized to use available CPU instructions in performance-critical operations.\n",
      "To enable the following instructions: SSE4.1 SSE4.2 AVX AVX2 AVX512F AVX512_VNNI FMA, in other operations, rebuild TensorFlow with the appropriate compiler flags.\n"
     ]
    }
   ],
   "source": [
    "import keras\n",
    "import numpy as np\n",
    "import matplotlib\n",
    "import matplotlib.pyplot as plt\n",
    "\n",
    "from keras.datasets import mnist\n",
    "from keras.utils import to_categorical\n",
    "from keras.models import Sequential\n",
    "from keras.layers import Dense, Flatten, Conv2D"
   ]
  },
  {
   "cell_type": "markdown",
   "id": "9afc3937-f76d-403e-8009-5b4a6fe00d54",
   "metadata": {},
   "source": [
    "## Loading the MNIST dataset using keras and splitting it"
   ]
  },
  {
   "cell_type": "code",
   "execution_count": 2,
   "id": "e5b61dd5-29e7-42e4-bc19-5cdefda28da3",
   "metadata": {},
   "outputs": [],
   "source": [
    "# Loading data\n",
    "data = mnist.load_data()"
   ]
  },
  {
   "cell_type": "code",
   "execution_count": 3,
   "id": "b7683ba6-42ea-4cdb-a1ba-dde33f7a97ef",
   "metadata": {},
   "outputs": [],
   "source": [
    "# Splitting the data\n",
    "(X_train, Y_train), (X_test, Y_test) = data"
   ]
  },
  {
   "cell_type": "code",
   "execution_count": 4,
   "id": "08189d59-bc72-479c-8149-bf4b9d3616f7",
   "metadata": {},
   "outputs": [
    {
     "name": "stdout",
     "output_type": "stream",
     "text": [
      "X_train shape:  (60000, 28, 28)\n",
      "Y_train shape:  (60000,)\n"
     ]
    }
   ],
   "source": [
    "# Checking data shape\n",
    "print('X_train shape: ', X_train.shape)\n",
    "print('Y_train shape: ', Y_train.shape)"
   ]
  },
  {
   "cell_type": "code",
   "execution_count": 5,
   "id": "6425185a-e561-452c-afdd-6fa50cb78ee4",
   "metadata": {},
   "outputs": [
    {
     "data": {
      "image/png": "[encoded data removed]",
      "text/plain": [
       "<Figure size 640x480 with 1 Axes>"
      ]
     },
     "metadata": {},
     "output_type": "display_data"
    },
    {
     "name": "stdout",
     "output_type": "stream",
     "text": [
      "8\n"
     ]
    }
   ],
   "source": [
    "plt.imshow(X_train[31], cmap='gray')\n",
    "plt.show()\n",
    "\n",
    "print(Y_train[31])"
   ]
  },
  {
   "cell_type": "markdown",
   "id": "4a2a75d5-e437-47b7-acc8-58430672d125",
   "metadata": {},
   "source": [
    "## Data normalization"
   ]
  },
  {
   "cell_type": "code",
   "execution_count": 6,
   "id": "89ac799f-bcae-4d2b-a169-5476b3aa747c",
   "metadata": {},
   "outputs": [],
   "source": [
    "# Normalizing the images data\n",
    "X_train  = X_train / 255\n",
    "X_test  = X_test / 255"
   ]
  },
  {
   "cell_type": "code",
   "execution_count": 7,
   "id": "45ebb031-4b77-40d8-9115-3f2395e46604",
   "metadata": {},
   "outputs": [
    {
     "data": {
      "text/plain": [
       "(60000, 28, 28)"
      ]
     },
     "execution_count": 7,
     "metadata": {},
     "output_type": "execute_result"
    }
   ],
   "source": [
    "X_train.shape"
   ]
  },
  {
   "cell_type": "code",
   "execution_count": 8,
   "id": "f023234d-b092-440b-bb6d-6694e6c54a99",
   "metadata": {},
   "outputs": [],
   "source": [
    "# Reshaping data to match the model\n",
    "X_train = X_train.reshape(60000, 28, 28, 1)\n",
    "X_test = X_test.reshape(10000, 28, 28, 1)"
   ]
  },
  {
   "cell_type": "code",
   "execution_count": 9,
   "id": "b1515c92-3d1b-45da-8563-9e08cbdb8b9b",
   "metadata": {},
   "outputs": [],
   "source": [
    "# Labels categorization\n",
    "Y_train = to_categorical(Y_train)\n",
    "Y_test = to_categorical(Y_test)"
   ]
  },
  {
   "cell_type": "code",
   "execution_count": 10,
   "id": "f65a286e-9877-41b8-86e4-4983e33c6a4f",
   "metadata": {},
   "outputs": [
    {
     "data": {
      "text/plain": [
       "array([[0., 0., 0., ..., 0., 0., 0.],\n",
       "       [1., 0., 0., ..., 0., 0., 0.],\n",
       "       [0., 0., 0., ..., 0., 0., 0.],\n",
       "       ...,\n",
       "       [0., 0., 0., ..., 0., 0., 0.],\n",
       "       [0., 0., 0., ..., 0., 0., 0.],\n",
       "       [0., 0., 0., ..., 0., 1., 0.]], dtype=float32)"
      ]
     },
     "execution_count": 10,
     "metadata": {},
     "output_type": "execute_result"
    }
   ],
   "source": [
    "Y_train"
   ]
  },
  {
   "cell_type": "markdown",
   "id": "fee65fb8-8dd0-447c-8ba2-3936a96cdc1e",
   "metadata": {},
   "source": [
    "## Training the model"
   ]
  },
  {
   "cell_type": "code",
   "execution_count": 11,
   "id": "bc843350-d84f-42d1-83cc-59156c0abe4d",
   "metadata": {},
   "outputs": [],
   "source": [
    "def my_model():\n",
    "    model = Sequential()\n",
    "    model.add(Conv2D(32, (2, 2), activation='relu'))\n",
    "    model.add(Flatten())\n",
    "    model.add(Dense(10, activation='softmax'))\n",
    "    model.compile(loss='categorical_crossentropy', optimizer='adam', metrics=['accuracy'])\n",
    "    return model"
   ]
  },
  {
   "cell_type": "code",
   "execution_count": 12,
   "id": "203f9fc5-77d0-4267-91af-cca48a951f59",
   "metadata": {},
   "outputs": [
    {
     "name": "stderr",
     "output_type": "stream",
     "text": [
      "2024-03-01 12:09:59.124323: I tensorflow/core/common_runtime/process_util.cc:146] Creating new thread pool with default inter op setting: 2. Tune using inter_op_parallelism_threads for best performance.\n"
     ]
    }
   ],
   "source": [
    "model = my_model()"
   ]
  },
  {
   "cell_type": "code",
   "execution_count": 13,
   "id": "bc632789-ca9c-4408-a50f-b12abca4671b",
   "metadata": {},
   "outputs": [],
   "source": [
    "# model.fit(X_train, Y_train, validation_data=(X_test, Y_test), epochs=5, batch_size=100)"
   ]
  },
  {
   "cell_type": "code",
   "execution_count": 14,
   "id": "c1d88a92-6caf-49b6-bc6e-e5bee3b5ce6f",
   "metadata": {},
   "outputs": [],
   "source": [
    "# test_loss, test_acc = model.evaluate(X_test, Y_test)\n",
    "# print('Test accuracy', test_acc)"
   ]
  },
  {
   "cell_type": "markdown",
   "id": "e437badf-74f4-44b9-9f14-f782ae1bcca7",
   "metadata": {},
   "source": [
    "## Other model with better performance"
   ]
  },
  {
   "cell_type": "code",
   "execution_count": 15,
   "id": "0852c401-479a-48ca-b72f-8ae1093a2450",
   "metadata": {},
   "outputs": [],
   "source": [
    "(x_train, y_train), (x_test, y_test) = mnist.load_data()"
   ]
  },
  {
   "cell_type": "code",
   "execution_count": 16,
   "id": "68223471-bdca-4118-a729-20eb587ddbc6",
   "metadata": {},
   "outputs": [
    {
     "data": {
      "text/plain": [
       "(60000, 28, 28)"
      ]
     },
     "execution_count": 16,
     "metadata": {},
     "output_type": "execute_result"
    }
   ],
   "source": [
    "x_train.shape"
   ]
  },
  {
   "cell_type": "code",
   "execution_count": 17,
   "id": "728eefb9-76f4-44ae-9553-d494667685a9",
   "metadata": {},
   "outputs": [
    {
     "data": {
      "text/plain": [
       "(60000,)"
      ]
     },
     "execution_count": 17,
     "metadata": {},
     "output_type": "execute_result"
    }
   ],
   "source": [
    "y_train.shape"
   ]
  },
  {
   "cell_type": "code",
   "execution_count": 18,
   "id": "8aa5abb4-ea49-4237-8c8e-7f39ffb84102",
   "metadata": {},
   "outputs": [],
   "source": [
    "num_pixels = x_train.shape[1] * x_train.shape[2]\n",
    "x_train = x_train.reshape(x_train.shape[0], num_pixels)\n",
    "x_test = x_test.reshape(x_test.shape[0], num_pixels)"
   ]
  },
  {
   "cell_type": "code",
   "execution_count": 19,
   "id": "a8e56c65-5053-4884-84e5-3920aef165a8",
   "metadata": {},
   "outputs": [
    {
     "data": {
      "text/plain": [
       "(60000, 784)"
      ]
     },
     "execution_count": 19,
     "metadata": {},
     "output_type": "execute_result"
    }
   ],
   "source": [
    "x_train.shape"
   ]
  },
  {
   "cell_type": "code",
   "execution_count": 20,
   "id": "71b642d8-837e-4758-9f3b-e227bcc3629a",
   "metadata": {},
   "outputs": [],
   "source": [
    "#Normalize inputs from [0; 255] to [0; 1]\n",
    "x_train = x_train / 255\n",
    "x_test = x_test / 255"
   ]
  },
  {
   "cell_type": "code",
   "execution_count": 21,
   "id": "ccd91518-6c8f-4a3d-946a-801d2e159221",
   "metadata": {},
   "outputs": [],
   "source": [
    "#Convert class vectors to binary class matrices (\"one hot encoding\")\n",
    "y_train = keras.utils.to_categorical(y_train)\n",
    "y_test = keras.utils.to_categorical(y_test)\n",
    "\n",
    "num_classes = y_train.shape[1]"
   ]
  },
  {
   "cell_type": "code",
   "execution_count": 22,
   "id": "e7397171-ce34-4fd4-be7f-eade3e4bc9b1",
   "metadata": {},
   "outputs": [
    {
     "data": {
      "text/plain": [
       "(60000, 10)"
      ]
     },
     "execution_count": 22,
     "metadata": {},
     "output_type": "execute_result"
    }
   ],
   "source": [
    "y_train.shape"
   ]
  },
  {
   "cell_type": "code",
   "execution_count": 23,
   "id": "5520828e-db44-46ed-9a27-9602fc58c22e",
   "metadata": {},
   "outputs": [],
   "source": [
    "def neural_network():\n",
    "    model = Sequential()\n",
    "    model.add(Dense(num_pixels, input_dim=num_pixels, kernel_initializer='normal', activation='relu'))\n",
    "    model.add(Dense(num_classes, kernel_initializer='normal', activation='softmax'))    \n",
    "    model.compile(loss='categorical_crossentropy', optimizer='adam', metrics=['accuracy'])\n",
    "    return model"
   ]
  },
  {
   "cell_type": "code",
   "execution_count": 24,
   "id": "f3d13918-c5e3-4723-90a3-28793d949c7d",
   "metadata": {},
   "outputs": [
    {
     "name": "stdout",
     "output_type": "stream",
     "text": [
      "Model: \"sequential_1\"\n",
      "_________________________________________________________________\n",
      " Layer (type)                Output Shape              Param #   \n",
      "=================================================================\n",
      " dense_1 (Dense)             (None, 784)               615440    \n",
      "                                                                 \n",
      " dense_2 (Dense)             (None, 10)                7850      \n",
      "                                                                 \n",
      "=================================================================\n",
      "Total params: 623,290\n",
      "Trainable params: 623,290\n",
      "Non-trainable params: 0\n",
      "_________________________________________________________________\n",
      "Epoch 1/3\n",
      "600/600 [==============================] - 27s 45ms/step - loss: 0.2344 - accuracy: 0.9324 - val_loss: 0.1198 - val_accuracy: 0.9659\n",
      "Epoch 2/3\n",
      "600/600 [==============================] - 9s 15ms/step - loss: 0.0908 - accuracy: 0.9732 - val_loss: 0.0914 - val_accuracy: 0.9719\n",
      "Epoch 3/3\n",
      "600/600 [==============================] - 18s 30ms/step - loss: 0.0564 - accuracy: 0.9834 - val_loss: 0.0702 - val_accuracy: 0.9785\n"
     ]
    },
    {
     "data": {
      "text/plain": [
       "<keras.callbacks.History at 0x7f2528f4d050>"
      ]
     },
     "execution_count": 24,
     "metadata": {},
     "output_type": "execute_result"
    }
   ],
   "source": [
    "model = neural_network()\n",
    "model.summary()\n",
    "model.fit(x_train, y_train, validation_data=(x_test, y_test), epochs=3, batch_size=100)"
   ]
  },
  {
   "cell_type": "code",
   "execution_count": 25,
   "id": "25638b7f-fd9a-43c5-a031-2ee2efba94fd",
   "metadata": {},
   "outputs": [
    {
     "name": "stdout",
     "output_type": "stream",
     "text": [
      "313/313 [==============================] - 1s 3ms/step - loss: 0.0702 - accuracy: 0.9785\n",
      "Test accuracy 0.9785000085830688\n"
     ]
    }
   ],
   "source": [
    "test_loss, test_acc = model.evaluate(x_test, y_test)\n",
    "print('Test accuracy', test_acc)"
   ]
  },
  {
   "cell_type": "code",
   "execution_count": 26,
   "id": "aa97b4da-7f51-42f1-94b4-d01c3bbcc3ee",
   "metadata": {},
   "outputs": [],
   "source": [
    "model.save('mnist_simple.keras')"
   ]
  },
  {
   "cell_type": "markdown",
   "id": "d269d202-7a85-4000-8253-00ecdf564a29",
   "metadata": {},
   "source": [
    "## Make a prediction using my new trained model"
   ]
  },
  {
   "cell_type": "code",
   "execution_count": 27,
   "id": "d7d21192-f8ec-46da-adf0-60dd381f6a88",
   "metadata": {},
   "outputs": [
    {
     "name": "stdout",
     "output_type": "stream",
     "text": [
      "1/1 [==============================] - 0s 79ms/step\n"
     ]
    }
   ],
   "source": [
    "# Choose the index of the image to predict on\n",
    "image_index = 98\n",
    "\n",
    "image = x_test[image_index]\n",
    "image = image.reshape(1, num_pixels)\n",
    "\n",
    "# Make the prediction\n",
    "prediction = model.predict(image)\n",
    "\n",
    "# Using argmax to return the class with highest probability\n",
    "predicted_class = np.argmax(prediction)"
   ]
  },
  {
   "cell_type": "code",
   "execution_count": 28,
   "id": "a2f5dbcd-a8c2-43ff-b9a6-bc545dac58cf",
   "metadata": {},
   "outputs": [
    {
     "data": {
      "image/png": "[encoded data removed]",
      "text/plain": [
       "<Figure size 640x480 with 1 Axes>"
      ]
     },
     "metadata": {},
     "output_type": "display_data"
    },
    {
     "name": "stdout",
     "output_type": "stream",
     "text": [
      "Predicted class: 6\n"
     ]
    }
   ],
   "source": [
    "image_to_plot = x_test[image_index].reshape(28, 28)\n",
    "\n",
    "plt.imshow(image_to_plot, cmap='gray')\n",
    "plt.show()\n",
    "\n",
    "print(\"Predicted class:\", predicted_class)"
   ]
  },
  {
   "cell_type": "code",
   "execution_count": null,
   "id": "b4f65baf-10d5-4e6b-84d5-27a7a37a0244",
   "metadata": {},
   "outputs": [],
   "source": []
  }
 ],
 "metadata": {
  "kernelspec": {
   "display_name": "Python 3 (ipykernel)",
   "language": "python",
   "name": "python3"
  },
  "language_info": {
   "codemirror_mode": {
    "name": "ipython",
    "version": 3
   },
   "file_extension": ".py",
   "mimetype": "text/x-python",
   "name": "python",
   "nbconvert_exporter": "python",
   "pygments_lexer": "ipython3",
   "version": "3.11.5"
  }
 },
 "nbformat": 4,
 "nbformat_minor": 5
}
