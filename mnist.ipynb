{
 "cells": [
  {
   "cell_type": "markdown",
   "id": "39979a9f-a104-4f48-9f20-1cdfb0994f8d",
   "metadata": {},
   "source": [
    "# Prediction model on MNIST"
   ]
  },
  {
   "cell_type": "code",
   "execution_count": null,
   "id": "2d564885-377c-4826-9cb1-a739307db258",
   "metadata": {},
   "outputs": [],
   "source": [
    "import matplotlib.pyplot as plt\n",
    "import numpy as np\n",
    "import keras"
   ]
  },
  {
   "cell_type": "markdown",
   "id": "9afc3937-f76d-403e-8009-5b4a6fe00d54",
   "metadata": {},
   "source": [
    "## Loading the MNIST dataset"
   ]
  },
  {
   "cell_type": "code",
   "execution_count": 2,
   "id": "b3a17f41",
   "metadata": {},
   "outputs": [],
   "source": [
    "(x_train, y_train), (x_test, y_test) = keras.datasets.mnist.load_data()"
   ]
  },
  {
   "cell_type": "code",
   "execution_count": null,
   "metadata": {},
   "outputs": [],
   "source": [
    "plt.imshow(x_train[31], cmap='gray')\n",
    "plt.show()\n",
    "\n",
    "print(y_train[31])"
   ]
  },
  {
   "cell_type": "markdown",
   "id": "4a2a75d5-e437-47b7-acc8-58430672d125",
   "metadata": {},
   "source": [
    "## Data normalization"
   ]
  },
  {
   "cell_type": "code",
   "execution_count": 4,
   "id": "8aa5abb4-ea49-4237-8c8e-7f39ffb84102",
   "metadata": {},
   "outputs": [],
   "source": [
    "num_pixels = x_train.shape[1] * x_train.shape[2]\n",
    "x_train = x_train.reshape(x_train.shape[0], num_pixels)\n",
    "x_test = x_test.reshape(x_test.shape[0], num_pixels)"
   ]
  },
  {
   "cell_type": "code",
   "execution_count": null,
   "id": "42f71a3c",
   "metadata": {},
   "outputs": [],
   "source": [
    "x_train.shape"
   ]
  },
  {
   "cell_type": "code",
   "execution_count": 6,
   "id": "71b642d8-837e-4758-9f3b-e227bcc3629a",
   "metadata": {},
   "outputs": [],
   "source": [
    "# Normalize inputs from [0; 255] to [0; 1]\n",
    "x_train = x_train / 255\n",
    "x_test = x_test / 255"
   ]
  },
  {
   "cell_type": "code",
   "execution_count": 7,
   "id": "ccd91518-6c8f-4a3d-946a-801d2e159221",
   "metadata": {},
   "outputs": [],
   "source": [
    "# Convert class vectors to binary class matrices (\"one hot encoding\")\n",
    "y_train = keras.utils.to_categorical(y_train)\n",
    "y_test = keras.utils.to_categorical(y_test)\n",
    "\n",
    "num_classes = y_train.shape[1]"
   ]
  },
  {
   "cell_type": "code",
   "execution_count": null,
   "id": "e7397171-ce34-4fd4-be7f-eade3e4bc9b1",
   "metadata": {},
   "outputs": [],
   "source": [
    "y_train.shape"
   ]
  },
  {
   "cell_type": "markdown",
   "id": "aa87b4b1",
   "metadata": {},
   "source": [
    "## Model training"
   ]
  },
  {
   "cell_type": "code",
   "execution_count": 9,
   "id": "5520828e-db44-46ed-9a27-9602fc58c22e",
   "metadata": {},
   "outputs": [],
   "source": [
    "def neural_network():\n",
    "    model = keras.models.Sequential()\n",
    "    model.add(keras.layers.Dense(num_pixels, input_dim=num_pixels, kernel_initializer='normal', activation='relu'))\n",
    "    model.add(keras.layers.Dense(num_classes, kernel_initializer='normal', activation='softmax'))    \n",
    "    model.compile(loss='categorical_crossentropy', optimizer='adam', metrics=['accuracy'])\n",
    "    return model"
   ]
  },
  {
   "cell_type": "code",
   "execution_count": null,
   "id": "f3d13918-c5e3-4723-90a3-28793d949c7d",
   "metadata": {},
   "outputs": [],
   "source": [
    "model = neural_network()\n",
    "model.summary()\n",
    "model.fit(x_train, y_train, validation_data=(x_test, y_test), epochs=3, batch_size=100)"
   ]
  },
  {
   "cell_type": "markdown",
   "id": "36f07974",
   "metadata": {},
   "source": [
    "## Testing the model"
   ]
  },
  {
   "cell_type": "code",
   "execution_count": null,
   "id": "25638b7f-fd9a-43c5-a031-2ee2efba94fd",
   "metadata": {},
   "outputs": [],
   "source": [
    "test_loss, test_acc = model.evaluate(x_test, y_test)\n",
    "print('Test accuracy', test_acc)"
   ]
  },
  {
   "cell_type": "markdown",
   "id": "d269d202-7a85-4000-8253-00ecdf564a29",
   "metadata": {},
   "source": [
    "## Make a prediction using my new trained model"
   ]
  },
  {
   "cell_type": "code",
   "execution_count": null,
   "id": "d7d21192-f8ec-46da-adf0-60dd381f6a88",
   "metadata": {},
   "outputs": [],
   "source": [
    "# Choose the index of the image to predict on\n",
    "image_index = 142\n",
    "\n",
    "image = x_test[image_index]\n",
    "image = image.reshape(1, num_pixels)\n",
    "\n",
    "# Make the prediction\n",
    "prediction = model.predict(image)\n",
    "\n",
    "# Using argmax to return the class with highest probability\n",
    "predicted_class = np.argmax(prediction)"
   ]
  },
  {
   "cell_type": "code",
   "execution_count": null,
   "id": "a2f5dbcd-a8c2-43ff-b9a6-bc545dac58cf",
   "metadata": {},
   "outputs": [],
   "source": [
    "image_to_plot = x_test[image_index].reshape(28, 28)\n",
    "\n",
    "plt.imshow(image_to_plot, cmap='gray')\n",
    "plt.show()\n",
    "\n",
    "print(\"Predicted class:\", predicted_class)"
   ]
  }
 ],
 "metadata": {
  "kernelspec": {
   "display_name": "py311",
   "language": "python",
   "name": "python3"
  },
  "language_info": {
   "codemirror_mode": {
    "name": "ipython",
    "version": 3
   },
   "file_extension": ".py",
   "mimetype": "text/x-python",
   "name": "python",
   "nbconvert_exporter": "python",
   "pygments_lexer": "ipython3",
   "version": "3.11.8"
  }
 },
 "nbformat": 4,
 "nbformat_minor": 5
}
